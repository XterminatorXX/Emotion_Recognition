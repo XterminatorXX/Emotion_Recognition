{
 "cells": [
  {
   "cell_type": "markdown",
   "metadata": {},
   "source": [
    "Imports"
   ]
  },
  {
   "cell_type": "code",
   "execution_count": 32,
   "metadata": {},
   "outputs": [],
   "source": [
    "import pandas as pd\n",
    "import matplotlib.pyplot as plt\n",
    "import mediapipe as mp \n",
    "import numpy as np\n",
    "import cv2\n",
    "import os\n",
    "from utils import get_landmarks"
   ]
  },
  {
   "cell_type": "markdown",
   "metadata": {},
   "source": [
    "Data Preprocessing and Preparation"
   ]
  },
  {
   "cell_type": "code",
   "execution_count": 33,
   "metadata": {},
   "outputs": [
    {
     "data": {
      "text/html": [
       "<div>\n",
       "<style scoped>\n",
       "    .dataframe tbody tr th:only-of-type {\n",
       "        vertical-align: middle;\n",
       "    }\n",
       "\n",
       "    .dataframe tbody tr th {\n",
       "        vertical-align: top;\n",
       "    }\n",
       "\n",
       "    .dataframe thead th {\n",
       "        text-align: right;\n",
       "    }\n",
       "</style>\n",
       "<table border=\"1\" class=\"dataframe\">\n",
       "  <thead>\n",
       "    <tr style=\"text-align: right;\">\n",
       "      <th></th>\n",
       "      <th>Unnamed: 0</th>\n",
       "      <th>path</th>\n",
       "      <th>label</th>\n",
       "    </tr>\n",
       "  </thead>\n",
       "  <tbody>\n",
       "    <tr>\n",
       "      <th>0</th>\n",
       "      <td>0</td>\n",
       "      <td>Surprise/1bd930d6a1c717c11be33db74823f661cb53f...</td>\n",
       "      <td>Surprise</td>\n",
       "    </tr>\n",
       "    <tr>\n",
       "      <th>1</th>\n",
       "      <td>1</td>\n",
       "      <td>Surprise/cropped_emotions.100096~12fffff.png</td>\n",
       "      <td>Surprise</td>\n",
       "    </tr>\n",
       "    <tr>\n",
       "      <th>2</th>\n",
       "      <td>2</td>\n",
       "      <td>Surprise/0df0e470e33093f5b72a8197fa209d684032c...</td>\n",
       "      <td>Surprise</td>\n",
       "    </tr>\n",
       "    <tr>\n",
       "      <th>3</th>\n",
       "      <td>3</td>\n",
       "      <td>Surprise/cropped_emotions.260779~12fffff.png</td>\n",
       "      <td>Surprise</td>\n",
       "    </tr>\n",
       "    <tr>\n",
       "      <th>4</th>\n",
       "      <td>4</td>\n",
       "      <td>Surprise/cropped_emotions.263616~12fffff.png</td>\n",
       "      <td>Surprise</td>\n",
       "    </tr>\n",
       "    <tr>\n",
       "      <th>5</th>\n",
       "      <td>5</td>\n",
       "      <td>Surprise/cropped_emotions.263141~12fffff.png</td>\n",
       "      <td>Surprise</td>\n",
       "    </tr>\n",
       "    <tr>\n",
       "      <th>6</th>\n",
       "      <td>6</td>\n",
       "      <td>Surprise/1c16775dfd679b09c10f4e94f1ea187a921f5...</td>\n",
       "      <td>Surprise</td>\n",
       "    </tr>\n",
       "    <tr>\n",
       "      <th>7</th>\n",
       "      <td>7</td>\n",
       "      <td>Surprise/0a15c44d8be6cc71cd9d8ab595266e5147459...</td>\n",
       "      <td>Surprise</td>\n",
       "    </tr>\n",
       "    <tr>\n",
       "      <th>8</th>\n",
       "      <td>8</td>\n",
       "      <td>Surprise/cropped_emotions.100252~12fffff.png</td>\n",
       "      <td>Surprise</td>\n",
       "    </tr>\n",
       "    <tr>\n",
       "      <th>9</th>\n",
       "      <td>9</td>\n",
       "      <td>Surprise/cropped_emotions.263517~12fffff.png</td>\n",
       "      <td>Surprise</td>\n",
       "    </tr>\n",
       "  </tbody>\n",
       "</table>\n",
       "</div>"
      ],
      "text/plain": [
       "   Unnamed: 0                                               path     label\n",
       "0           0  Surprise/1bd930d6a1c717c11be33db74823f661cb53f...  Surprise\n",
       "1           1       Surprise/cropped_emotions.100096~12fffff.png  Surprise\n",
       "2           2  Surprise/0df0e470e33093f5b72a8197fa209d684032c...  Surprise\n",
       "3           3       Surprise/cropped_emotions.260779~12fffff.png  Surprise\n",
       "4           4       Surprise/cropped_emotions.263616~12fffff.png  Surprise\n",
       "5           5       Surprise/cropped_emotions.263141~12fffff.png  Surprise\n",
       "6           6  Surprise/1c16775dfd679b09c10f4e94f1ea187a921f5...  Surprise\n",
       "7           7  Surprise/0a15c44d8be6cc71cd9d8ab595266e5147459...  Surprise\n",
       "8           8       Surprise/cropped_emotions.100252~12fffff.png  Surprise\n",
       "9           9       Surprise/cropped_emotions.263517~12fffff.png  Surprise"
      ]
     },
     "execution_count": 33,
     "metadata": {},
     "output_type": "execute_result"
    }
   ],
   "source": [
    "df=pd.read_csv('data.csv')\n",
    "df.head(10)"
   ]
  },
  {
   "cell_type": "code",
   "execution_count": 34,
   "metadata": {},
   "outputs": [
    {
     "name": "stdout",
     "output_type": "stream",
     "text": [
      "<class 'pandas.core.frame.DataFrame'>\n",
      "RangeIndex: 15453 entries, 0 to 15452\n",
      "Data columns (total 3 columns):\n",
      " #   Column      Non-Null Count  Dtype \n",
      "---  ------      --------------  ----- \n",
      " 0   Unnamed: 0  15453 non-null  int64 \n",
      " 1   path        15453 non-null  object\n",
      " 2   label       15453 non-null  object\n",
      "dtypes: int64(1), object(2)\n",
      "memory usage: 362.3+ KB\n",
      "None\n",
      "Checking for Null values:\n",
      " Unnamed: 0    0\n",
      "path          0\n",
      "label         0\n",
      "dtype: int64\n"
     ]
    }
   ],
   "source": [
    "print(df.info())\n",
    "print(\"Checking for Null values:\\n\",df.isnull().sum())"
   ]
  },
  {
   "cell_type": "code",
   "execution_count": 35,
   "metadata": {},
   "outputs": [
    {
     "name": "stdout",
     "output_type": "stream",
     "text": [
      "(15453, 3)\n",
      "15453\n"
     ]
    },
    {
     "data": {
      "text/html": [
       "<div>\n",
       "<style scoped>\n",
       "    .dataframe tbody tr th:only-of-type {\n",
       "        vertical-align: middle;\n",
       "    }\n",
       "\n",
       "    .dataframe tbody tr th {\n",
       "        vertical-align: top;\n",
       "    }\n",
       "\n",
       "    .dataframe thead th {\n",
       "        text-align: right;\n",
       "    }\n",
       "</style>\n",
       "<table border=\"1\" class=\"dataframe\">\n",
       "  <thead>\n",
       "    <tr style=\"text-align: right;\">\n",
       "      <th></th>\n",
       "      <th>path</th>\n",
       "      <th>label</th>\n",
       "    </tr>\n",
       "  </thead>\n",
       "  <tbody>\n",
       "    <tr>\n",
       "      <th>0</th>\n",
       "      <td>Surprise/1bd930d6a1c717c11be33db74823f661cb53f...</td>\n",
       "      <td>Surprise</td>\n",
       "    </tr>\n",
       "    <tr>\n",
       "      <th>1</th>\n",
       "      <td>Surprise/cropped_emotions.100096~12fffff.png</td>\n",
       "      <td>Surprise</td>\n",
       "    </tr>\n",
       "    <tr>\n",
       "      <th>2</th>\n",
       "      <td>Surprise/0df0e470e33093f5b72a8197fa209d684032c...</td>\n",
       "      <td>Surprise</td>\n",
       "    </tr>\n",
       "    <tr>\n",
       "      <th>3</th>\n",
       "      <td>Surprise/cropped_emotions.260779~12fffff.png</td>\n",
       "      <td>Surprise</td>\n",
       "    </tr>\n",
       "    <tr>\n",
       "      <th>4</th>\n",
       "      <td>Surprise/cropped_emotions.263616~12fffff.png</td>\n",
       "      <td>Surprise</td>\n",
       "    </tr>\n",
       "  </tbody>\n",
       "</table>\n",
       "</div>"
      ],
      "text/plain": [
       "                                                path     label\n",
       "0  Surprise/1bd930d6a1c717c11be33db74823f661cb53f...  Surprise\n",
       "1       Surprise/cropped_emotions.100096~12fffff.png  Surprise\n",
       "2  Surprise/0df0e470e33093f5b72a8197fa209d684032c...  Surprise\n",
       "3       Surprise/cropped_emotions.260779~12fffff.png  Surprise\n",
       "4       Surprise/cropped_emotions.263616~12fffff.png  Surprise"
      ]
     },
     "execution_count": 35,
     "metadata": {},
     "output_type": "execute_result"
    }
   ],
   "source": [
    "#Check if all are the Unnamed:0 column values are unique\n",
    "print(df.shape)\n",
    "print(len(df['Unnamed: 0'].unique()))\n",
    "#Drop the Unnamed column since we alreadyhave the index column\n",
    "df.drop(columns=['Unnamed: 0'],inplace=True)\n",
    "df.head()"
   ]
  },
  {
   "cell_type": "code",
   "execution_count": 36,
   "metadata": {},
   "outputs": [
    {
     "data": {
      "text/plain": [
       "label\n",
       "Neutral     4027\n",
       "Sad         3934\n",
       "Happy       3740\n",
       "Angry       1313\n",
       "Surprise    1234\n",
       "Ahegao      1205\n",
       "Name: count, dtype: int64"
      ]
     },
     "execution_count": 36,
     "metadata": {},
     "output_type": "execute_result"
    }
   ],
   "source": [
    "df['label'].value_counts()"
   ]
  },
  {
   "cell_type": "code",
   "execution_count": 37,
   "metadata": {},
   "outputs": [
    {
     "data": {
      "text/plain": [
       "(10221, 2)"
      ]
     },
     "execution_count": 37,
     "metadata": {},
     "output_type": "execute_result"
    }
   ],
   "source": [
    "#Removing few class labels for moderation purposes\n",
    "df=df[df['label']!='Neutral']\n",
    "df=df[df['label']!='Ahegao']\n",
    "df.shape"
   ]
  },
  {
   "cell_type": "code",
   "execution_count": 38,
   "metadata": {},
   "outputs": [
    {
     "data": {
      "image/png": "[encoded data removed]",
      "text/plain": [
       "<Figure size 640x480 with 1 Axes>"
      ]
     },
     "metadata": {},
     "output_type": "display_data"
    }
   ],
   "source": [
    "import seaborn as sns\n",
    "sns.histplot(data=df,x=df['label'])\n",
    "plt.show()"
   ]
  },
  {
   "cell_type": "code",
   "execution_count": null,
   "metadata": {},
   "outputs": [],
   "source": [
    "#Basic features for training data\n",
    "\n",
    "landmark_data=[]\n",
    "dataset_dir_path=r\"D:\\emotion_dataset\\dataset\"\n",
    "for emotion_labels in os.listdir(dataset_dir_path):\n",
    "    for img_path in os.listdir(os.path.join(dataset_dir_path,emotion_labels)):\n",
    "        full_img_path=os.path.join(dataset_dir_path,emotion_labels,img_path)\n",
    "        img=cv2.imread(full_img_path)\n",
    "        img_landmarks=get_landmarks(img)\n",
    "        if img_landmarks and len(img_landmarks) == 1434:   \n",
    "            landmark_data.append([img_path]+img_landmarks+[emotion_labels])\n",
    "        elif img_landmarks and len(img_landmarks) !=1434:\n",
    "            print(full_img_path,len(img_landmarks))"
   ]
  },
  {
   "cell_type": "code",
   "execution_count": null,
   "metadata": {},
   "outputs": [],
   "source": [
    "#Landmark features\n",
    "columns=[\"File\"]\n",
    "for i in range(478):\n",
    "    columns=columns+[f\"x{i}\"]+[f\"y{i}\"]+[f\"z{i}\"]\n",
    "columns=columns+[\"Emotion_Label\"]    \n",
    "data=pd.DataFrame(data=landmark_data,columns=columns)"
   ]
  },
  {
   "cell_type": "code",
   "execution_count": 43,
   "metadata": {},
   "outputs": [
    {
     "data": {
      "text/html": [
       "<div>\n",
       "<style scoped>\n",
       "    .dataframe tbody tr th:only-of-type {\n",
       "        vertical-align: middle;\n",
       "    }\n",
       "\n",
       "    .dataframe tbody tr th {\n",
       "        vertical-align: top;\n",
       "    }\n",
       "\n",
       "    .dataframe thead th {\n",
       "        text-align: right;\n",
       "    }\n",
       "</style>\n",
       "<table border=\"1\" class=\"dataframe\">\n",
       "  <thead>\n",
       "    <tr style=\"text-align: right;\">\n",
       "      <th></th>\n",
       "      <th>File</th>\n",
       "      <th>x0</th>\n",
       "      <th>y0</th>\n",
       "      <th>z0</th>\n",
       "      <th>x1</th>\n",
       "      <th>y1</th>\n",
       "      <th>z1</th>\n",
       "      <th>x2</th>\n",
       "      <th>y2</th>\n",
       "      <th>z2</th>\n",
       "      <th>...</th>\n",
       "      <th>x475</th>\n",
       "      <th>y475</th>\n",
       "      <th>z475</th>\n",
       "      <th>x476</th>\n",
       "      <th>y476</th>\n",
       "      <th>z476</th>\n",
       "      <th>x477</th>\n",
       "      <th>y477</th>\n",
       "      <th>z477</th>\n",
       "      <th>Emotion_Label</th>\n",
       "    </tr>\n",
       "  </thead>\n",
       "  <tbody>\n",
       "    <tr>\n",
       "      <th>0</th>\n",
       "      <td>00a7cb9cf18d3a015a9e932952f942fd4bcad8044bcef5...</td>\n",
       "      <td>0.462853</td>\n",
       "      <td>0.703957</td>\n",
       "      <td>-0.063871</td>\n",
       "      <td>0.435659</td>\n",
       "      <td>0.596392</td>\n",
       "      <td>-0.137474</td>\n",
       "      <td>0.455995</td>\n",
       "      <td>0.625306</td>\n",
       "      <td>-0.070197</td>\n",
       "      <td>...</td>\n",
       "      <td>0.629235</td>\n",
       "      <td>0.404544</td>\n",
       "      <td>-0.045084</td>\n",
       "      <td>0.609650</td>\n",
       "      <td>0.420665</td>\n",
       "      <td>-0.045084</td>\n",
       "      <td>0.623387</td>\n",
       "      <td>0.444919</td>\n",
       "      <td>-0.045084</td>\n",
       "      <td>Angry</td>\n",
       "    </tr>\n",
       "    <tr>\n",
       "      <th>1</th>\n",
       "      <td>00b7e4551ffa57ff4e2311b2ce156a6c964c642abcacff...</td>\n",
       "      <td>0.508222</td>\n",
       "      <td>0.686624</td>\n",
       "      <td>-0.083488</td>\n",
       "      <td>0.500030</td>\n",
       "      <td>0.595476</td>\n",
       "      <td>-0.149186</td>\n",
       "      <td>0.500274</td>\n",
       "      <td>0.622715</td>\n",
       "      <td>-0.080414</td>\n",
       "      <td>...</td>\n",
       "      <td>0.644312</td>\n",
       "      <td>0.372752</td>\n",
       "      <td>0.024835</td>\n",
       "      <td>0.618640</td>\n",
       "      <td>0.398970</td>\n",
       "      <td>0.024835</td>\n",
       "      <td>0.646608</td>\n",
       "      <td>0.424549</td>\n",
       "      <td>0.024835</td>\n",
       "      <td>Angry</td>\n",
       "    </tr>\n",
       "    <tr>\n",
       "      <th>2</th>\n",
       "      <td>0118d3f7d8cbda624679c102f3a09282a7a73018d6fcd1...</td>\n",
       "      <td>0.509734</td>\n",
       "      <td>0.693084</td>\n",
       "      <td>-0.087336</td>\n",
       "      <td>0.482070</td>\n",
       "      <td>0.598624</td>\n",
       "      <td>-0.144905</td>\n",
       "      <td>0.498920</td>\n",
       "      <td>0.631458</td>\n",
       "      <td>-0.081799</td>\n",
       "      <td>...</td>\n",
       "      <td>0.622521</td>\n",
       "      <td>0.381526</td>\n",
       "      <td>0.006120</td>\n",
       "      <td>0.604547</td>\n",
       "      <td>0.401713</td>\n",
       "      <td>0.006120</td>\n",
       "      <td>0.623848</td>\n",
       "      <td>0.423134</td>\n",
       "      <td>0.006120</td>\n",
       "      <td>Angry</td>\n",
       "    </tr>\n",
       "    <tr>\n",
       "      <th>3</th>\n",
       "      <td>016e982434c5ffc7ee2fdc353befd030a420183dcb9b32...</td>\n",
       "      <td>0.498339</td>\n",
       "      <td>0.678165</td>\n",
       "      <td>-0.099707</td>\n",
       "      <td>0.516150</td>\n",
       "      <td>0.572861</td>\n",
       "      <td>-0.153686</td>\n",
       "      <td>0.509856</td>\n",
       "      <td>0.605556</td>\n",
       "      <td>-0.088777</td>\n",
       "      <td>...</td>\n",
       "      <td>0.654815</td>\n",
       "      <td>0.423852</td>\n",
       "      <td>0.043983</td>\n",
       "      <td>0.624069</td>\n",
       "      <td>0.439265</td>\n",
       "      <td>0.043983</td>\n",
       "      <td>0.646687</td>\n",
       "      <td>0.465086</td>\n",
       "      <td>0.043983</td>\n",
       "      <td>Angry</td>\n",
       "    </tr>\n",
       "    <tr>\n",
       "      <th>4</th>\n",
       "      <td>01b4484e9f51114bbdaceb1e6b3d00f2708dc04831f051...</td>\n",
       "      <td>0.517820</td>\n",
       "      <td>0.715426</td>\n",
       "      <td>-0.058513</td>\n",
       "      <td>0.517744</td>\n",
       "      <td>0.649572</td>\n",
       "      <td>-0.139796</td>\n",
       "      <td>0.519360</td>\n",
       "      <td>0.667633</td>\n",
       "      <td>-0.065651</td>\n",
       "      <td>...</td>\n",
       "      <td>0.635671</td>\n",
       "      <td>0.402298</td>\n",
       "      <td>-0.004279</td>\n",
       "      <td>0.612029</td>\n",
       "      <td>0.427482</td>\n",
       "      <td>-0.004279</td>\n",
       "      <td>0.641158</td>\n",
       "      <td>0.446615</td>\n",
       "      <td>-0.004279</td>\n",
       "      <td>Angry</td>\n",
       "    </tr>\n",
       "  </tbody>\n",
       "</table>\n",
       "<p>5 rows × 1436 columns</p>\n",
       "</div>"
      ],
      "text/plain": [
       "                                                File        x0        y0  \\\n",
       "0  00a7cb9cf18d3a015a9e932952f942fd4bcad8044bcef5...  0.462853  0.703957   \n",
       "1  00b7e4551ffa57ff4e2311b2ce156a6c964c642abcacff...  0.508222  0.686624   \n",
       "2  0118d3f7d8cbda624679c102f3a09282a7a73018d6fcd1...  0.509734  0.693084   \n",
       "3  016e982434c5ffc7ee2fdc353befd030a420183dcb9b32...  0.498339  0.678165   \n",
       "4  01b4484e9f51114bbdaceb1e6b3d00f2708dc04831f051...  0.517820  0.715426   \n",
       "\n",
       "         z0        x1        y1        z1        x2        y2        z2  ...  \\\n",
       "0 -0.063871  0.435659  0.596392 -0.137474  0.455995  0.625306 -0.070197  ...   \n",
       "1 -0.083488  0.500030  0.595476 -0.149186  0.500274  0.622715 -0.080414  ...   \n",
       "2 -0.087336  0.482070  0.598624 -0.144905  0.498920  0.631458 -0.081799  ...   \n",
       "3 -0.099707  0.516150  0.572861 -0.153686  0.509856  0.605556 -0.088777  ...   \n",
       "4 -0.058513  0.517744  0.649572 -0.139796  0.519360  0.667633 -0.065651  ...   \n",
       "\n",
       "       x475      y475      z475      x476      y476      z476      x477  \\\n",
       "0  0.629235  0.404544 -0.045084  0.609650  0.420665 -0.045084  0.623387   \n",
       "1  0.644312  0.372752  0.024835  0.618640  0.398970  0.024835  0.646608   \n",
       "2  0.622521  0.381526  0.006120  0.604547  0.401713  0.006120  0.623848   \n",
       "3  0.654815  0.423852  0.043983  0.624069  0.439265  0.043983  0.646687   \n",
       "4  0.635671  0.402298 -0.004279  0.612029  0.427482 -0.004279  0.641158   \n",
       "\n",
       "       y477      z477  Emotion_Label  \n",
       "0  0.444919 -0.045084          Angry  \n",
       "1  0.424549  0.024835          Angry  \n",
       "2  0.423134  0.006120          Angry  \n",
       "3  0.465086  0.043983          Angry  \n",
       "4  0.446615 -0.004279          Angry  \n",
       "\n",
       "[5 rows x 1436 columns]"
      ]
     },
     "execution_count": 43,
     "metadata": {},
     "output_type": "execute_result"
    }
   ],
   "source": [
    "data.head()"
   ]
  },
  {
   "cell_type": "code",
   "execution_count": null,
   "metadata": {},
   "outputs": [],
   "source": [
    "data.to_csv(\"landmark_data.csv\", index=False)  # Save the prepared data"
   ]
  }
 ],
 "metadata": {
  "kernelspec": {
   "display_name": "myenv",
   "language": "python",
   "name": "python3"
  },
  "language_info": {
   "codemirror_mode": {
    "name": "ipython",
    "version": 3
   },
   "file_extension": ".py",
   "mimetype": "text/x-python",
   "name": "python",
   "nbconvert_exporter": "python",
   "pygments_lexer": "ipython3",
   "version": "3.9.21"
  }
 },
 "nbformat": 4,
 "nbformat_minor": 2
}
