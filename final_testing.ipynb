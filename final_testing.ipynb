{
 "cells": [
  {
   "cell_type": "code",
   "execution_count": null,
   "metadata": {},
   "outputs": [],
   "source": [
    "import cv2\n",
    "from utils import load_models, predict_class\n",
    "\n",
    "# Load the scaler,one hot encoder and model\n",
    "scaler, one_hot_encoder, model = load_models(\n",
    "    r\"D:\\emotion_dataset\\models\\scaler.pkl\", #scaler path\n",
    "    r\"D:\\emotion_dataset\\models\\one_hot_encoder.pkl\", #one hot encoder path\n",
    "    r\"D:\\emotion_dataset\\models\\emotion_model_weights.pth\" #model path\n",
    ")\n",
    "\n",
    "webcam = cv2.VideoCapture(0)\n",
    "\n",
    "while True:\n",
    "    ret, frame = webcam.read()\n",
    "    if not ret:\n",
    "        break\n",
    "\n",
    "    result,probs = predict_class(frame, scaler, one_hot_encoder, model)\n",
    "    \n",
    "    predicted_emotion = result\n",
    "    if result:\n",
    "        #Fine tune the model decision boundaries according to your camera specs\n",
    "        if probs[0]>0.009 and probs[3]<0.33:\n",
    "            cv2.putText(frame, \"Angry\", (30, 100), cv2.FONT_HERSHEY_SIMPLEX, 0.7, (0, 255, 255), 2)\n",
    "        elif probs[3]>0.22:\n",
    "            cv2.putText(frame, \"Surprised\", (30, 100), cv2.FONT_HERSHEY_SIMPLEX, 0.7, (0, 255, 255), 2)\n",
    "        elif (probs[1]-probs[2])<0.10 and (probs[1]-probs[2])>0:\n",
    "            cv2.putText(frame, \"Neutral\", (30, 100), cv2.FONT_HERSHEY_SIMPLEX, 0.7, (0, 255, 255), 2)\n",
    "        elif probs[1]>0.50:\n",
    "            cv2.putText(frame, \"Happy\", (30, 100), cv2.FONT_HERSHEY_SIMPLEX, 0.7, (0, 255, 255), 2)\n",
    "        else:\n",
    "            cv2.putText(frame, \"Sad\", (30, 100), cv2.FONT_HERSHEY_SIMPLEX, 0.7, (0, 255, 255), 2)\n",
    "\n",
    "    else:\n",
    "        cv2.putText(frame, \"No face detected\" , (30, 100), cv2.FONT_HERSHEY_SIMPLEX, 0.7, (0, 255, 255), 2)\n",
    "\n",
    "    cv2.imshow(\"Emotion Detection\", frame)\n",
    "\n",
    "    if cv2.waitKey(20) & 0xFF == ord('q'):\n",
    "        break\n",
    "\n",
    "webcam.release()\n",
    "cv2.destroyAllWindows()"
   ]
  }
 ],
 "metadata": {
  "kernelspec": {
   "display_name": "myenv",
   "language": "python",
   "name": "python3"
  },
  "language_info": {
   "codemirror_mode": {
    "name": "ipython",
    "version": 3
   },
   "file_extension": ".py",
   "mimetype": "text/x-python",
   "name": "python",
   "nbconvert_exporter": "python",
   "pygments_lexer": "ipython3",
   "version": "3.9.21"
  }
 },
 "nbformat": 4,
 "nbformat_minor": 2
}
